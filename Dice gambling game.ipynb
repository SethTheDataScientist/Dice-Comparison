{
 "cells": [
  {
   "cell_type": "code",
   "execution_count": 1,
   "metadata": {},
   "outputs": [],
   "source": [
    "import random\n",
    "import numpy as np\n",
    "import time"
   ]
  },
  {
   "cell_type": "code",
   "execution_count": 111,
   "metadata": {},
   "outputs": [],
   "source": [
    "dice = [4, 6, 8, 10, 12, 20]\n",
    "\n",
    "payouts = [4, 4, 4, 4, 4, 4, 4]\n",
    "\n",
    "starting_bankroll = 10"
   ]
  },
  {
   "cell_type": "code",
   "execution_count": 2,
   "metadata": {},
   "outputs": [],
   "source": [
    "def roll_die(sides):\n",
    "    \"\"\"Rolls a die with a given number of sides.\"\"\"\n",
    "    return random.randint(1, sides)"
   ]
  },
  {
   "cell_type": "code",
   "execution_count": 78,
   "metadata": {},
   "outputs": [],
   "source": [
    "def game_loop(bankroll, current_die, dice_index, payouts, verbose = False):\n",
    "    # Defaulting the continuation to false\n",
    "    continue_flag = False\n",
    "\n",
    "    # Pay a unit for right to play\n",
    "    bankroll -= 1\n",
    "\n",
    "    # Roll a die and check the result\n",
    "    roll_value = roll_die(current_die)\n",
    "\n",
    "    if roll_value == current_die:\n",
    "        if verbose:\n",
    "            print(f\"Success! You rolled {current_die}\")\n",
    "        bankroll += payouts[dice_index]\n",
    "        continue_flag = True\n",
    "    else:\n",
    "        if verbose:\n",
    "            print(\"Fail! You didn't roll the highest value\")\n",
    "        \n",
    "    \n",
    "    return bankroll, continue_flag"
   ]
  },
  {
   "cell_type": "code",
   "execution_count": 93,
   "metadata": {},
   "outputs": [],
   "source": [
    "def start_game(bankroll, verbose = False):\n",
    "    steps = 0\n",
    "    max_bankroll = bankroll\n",
    "    while bankroll > 3:\n",
    "        dice_index = 0\n",
    "        continue_flag = True\n",
    "        while continue_flag:\n",
    "            if len(dice) == dice_index:\n",
    "                dice_index = 0\n",
    "            current_die = dice[dice_index]\n",
    "            bankroll, continue_flag = game_loop(bankroll, current_die, dice_index, payouts)\n",
    "            dice_index += 1\n",
    "            if verbose:\n",
    "                print(bankroll)\n",
    "            steps += 1\n",
    "            if bankroll > max_bankroll:\n",
    "                max_bankroll = bankroll\n",
    "    if verbose:\n",
    "        print(f\"Player completed {steps} rolls before not having enough to play\")\n",
    "        print(f'Player managed a max bankroll of {max_bankroll}')\n",
    "    return steps, max_bankroll\n"
   ]
  },
  {
   "cell_type": "code",
   "execution_count": 112,
   "metadata": {},
   "outputs": [],
   "source": [
    "steps_list = []\n",
    "bankroll_list = []\n",
    "\n",
    "for i in range(2):\n",
    "    steps, max_bankroll = start_game(starting_bankroll)\n",
    "    steps_list.append(steps)\n",
    "    bankroll_list.append(max_bankroll)\n"
   ]
  },
  {
   "cell_type": "code",
   "execution_count": 113,
   "metadata": {},
   "outputs": [
    {
     "name": "stdout",
     "output_type": "stream",
     "text": [
      "Steps Stats (max, min, median)\n",
      "263\n",
      "135\n",
      "199.0\n",
      "Bankroll Stats (max, min, median)\n",
      "36\n",
      "35\n",
      "35.5\n"
     ]
    }
   ],
   "source": [
    "print(\"Steps Stats (max, min, median)\")\n",
    "print(np.max(steps_list))\n",
    "print(np.min(steps_list))\n",
    "print(np.median(steps_list))\n",
    "\n",
    "print(\"Bankroll Stats (max, min, median)\")\n",
    "print(np.max(bankroll_list))\n",
    "print(np.min(bankroll_list))\n",
    "print(np.median(bankroll_list))"
   ]
  }
 ],
 "metadata": {
  "kernelspec": {
   "display_name": "S52",
   "language": "python",
   "name": "python3"
  },
  "language_info": {
   "codemirror_mode": {
    "name": "ipython",
    "version": 3
   },
   "file_extension": ".py",
   "mimetype": "text/x-python",
   "name": "python",
   "nbconvert_exporter": "python",
   "pygments_lexer": "ipython3",
   "version": "3.9.16"
  }
 },
 "nbformat": 4,
 "nbformat_minor": 2
}
